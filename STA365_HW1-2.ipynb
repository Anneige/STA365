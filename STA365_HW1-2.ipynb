{
 "cells": [
  {
   "cell_type": "markdown",
   "id": "147a27ef",
   "metadata": {},
   "source": [
    "# STA365\n",
    "Homework 1"
   ]
  },
  {
   "cell_type": "markdown",
   "id": "ffbc54ab",
   "metadata": {},
   "source": [
    "Question 1\n",
    "What proportion of students who answer this question quickly will pass the class? Assume the probability of passing the class is 0.9. Assume the probability of answering this question quickly is 0.6 if you'll pass the class, while the probability drops to 0.3 if you'll not pass the class."
   ]
  },
  {
   "cell_type": "code",
   "execution_count": null,
   "id": "f75fa219",
   "metadata": {},
   "outputs": [],
   "source": [
    "Given information:\n",
    "    Pr(pass) = 0.9\n",
    "    Pr(quick|pass) = 0.6\n",
    "    Pr(quick|fail) = 0.3\n",
    "    \n",
    "Pr(pass|quick) = Pr(pass)Pr(quick|pass) / Pr(quick)\n",
    "    = Pr(pass)Pr(quick|pass) / (Pr(pass)Pr(quick|pass) + Pr(fail)Pr(quick|fail))\n",
    "    = 0.94737"
   ]
  },
  {
   "cell_type": "markdown",
   "id": "ca76794a",
   "metadata": {},
   "source": [
    "Question 2"
   ]
  },
  {
   "cell_type": "markdown",
   "id": "0d35c74a",
   "metadata": {},
   "source": []
  },
  {
   "cell_type": "markdown",
   "id": "26ad849f",
   "metadata": {},
   "source": [
    "Likelihood is a multinomial\n",
    "$$ p(x|\\theta, n) = \\frac{n!}{x_1!x_2!...x_k!} \\prod_{i=1}^{k} \\theta_{i}^{x_i} = c\\theta_{1}^{x_1}\\theta_{2}^{x_2}...\\theta_{k}^{x_k} $$"
   ]
  },
  {
   "cell_type": "markdown",
   "id": "78f310b0",
   "metadata": {},
   "source": [
    "Prior is a Dirichlet distribution\n",
    "$p(\\theta|\\alpha) = \\frac{1}{B(\\alpha)}$ where $B(\\alpha) = \\frac{\\prod_{i=1}^{k} \\Gamma(\\alpha_i)}{\\Gamma(\\Sigma_{i=1}^{k} \\alpha_i)}$\n",
    "$ = c'\\theta_{1}^{\\alpha_1 -1}\\theta_{2}^{\\alpha_2 -1}...\\theta_{k}^{\\alpha_k-1}$"
   ]
  },
  {
   "cell_type": "markdown",
   "id": "0efdfec9",
   "metadata": {},
   "source": [
    "Hence, the posterior is \n"
   ]
  },
  {
   "cell_type": "code",
   "execution_count": null,
   "id": "98cbe350",
   "metadata": {
    "collapsed": true
   },
   "outputs": [],
   "source": [
    "Question 2\n"
   ]
  },
  {
   "cell_type": "code",
   "execution_count": null,
   "id": "d05f95c4",
   "metadata": {},
   "outputs": [],
   "source": []
  }
 ],
 "metadata": {
  "kernelspec": {
   "display_name": "Python 3 (ipykernel)",
   "language": "python",
   "name": "python3"
  },
  "language_info": {
   "codemirror_mode": {
    "name": "ipython",
    "version": 3
   },
   "file_extension": ".py",
   "mimetype": "text/x-python",
   "name": "python",
   "nbconvert_exporter": "python",
   "pygments_lexer": "ipython3",
   "version": "3.11.6"
  }
 },
 "nbformat": 4,
 "nbformat_minor": 5
}
