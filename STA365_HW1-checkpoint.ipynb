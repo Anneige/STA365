{
 "cells": [
  {
   "cell_type": "code",
   "execution_count": null,
   "id": "c00074ff",
   "metadata": {},
   "outputs": [],
   "source": [
    "STA365\n",
    "Homework 1"
   ]
  },
  {
   "cell_type": "code",
   "execution_count": null,
   "id": "ff05dd7f",
   "metadata": {},
   "outputs": [],
   "source": [
    "Question 1\n",
    "What proportion of students who answer this question quickly will pass the class? Assume the probability of passing the class is 0.9. Assume the probability of answering this question quickly is 0.6 if you'll pass the class, while the probability drops to 0.3 if you'll not pass the class."
   ]
  },
  {
   "cell_type": "code",
   "execution_count": null,
   "id": "6fe9dd97",
   "metadata": {
    "slideshow": {
     "slide_type": "fragment"
    }
   },
   "outputs": [],
   "source": [
    "Given information:\n",
    "    Pr(pass) = 0.9\n",
    "    Pr(quick|pass) = 0.6\n",
    "    Pr(quick|fail) = 0.3"
   ]
  },
  {
   "cell_type": "code",
   "execution_count": null,
   "id": "e576f49e",
   "metadata": {},
   "outputs": [],
   "source": [
    "Pr(pass|quick) = Pr(pass)Pr(quick|pass) / Pr(quick)\n",
    "    = Pr(pass)Pr(quick|pass) / (Pr(pass)Pr(quick|pass) + Pr(fail)Pr(quick|fail))\n",
    "    = 0.94737"
   ]
  },
  {
   "cell_type": "code",
   "execution_count": null,
   "id": "98cbe350",
   "metadata": {
    "collapsed": true
   },
   "outputs": [],
   "source": [
    "Question 2\n"
   ]
  }
 ],
 "metadata": {
  "kernelspec": {
   "display_name": "Python 3 (ipykernel)",
   "language": "python",
   "name": "python3"
  },
  "language_info": {
   "codemirror_mode": {
    "name": "ipython",
    "version": 3
   },
   "file_extension": ".py",
   "mimetype": "text/x-python",
   "name": "python",
   "nbconvert_exporter": "python",
   "pygments_lexer": "ipython3",
   "version": "3.11.6"
  }
 },
 "nbformat": 4,
 "nbformat_minor": 5
}
