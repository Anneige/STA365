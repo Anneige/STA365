{
 "cells": [
  {
   "cell_type": "markdown",
   "id": "147a27ef",
   "metadata": {},
   "source": [
    "# STA365\n",
    "Homework 1"
   ]
  },
  {
   "cell_type": "markdown",
   "id": "ffbc54ab",
   "metadata": {},
   "source": [
    "$\\textbf{Question 1}$\n",
    "What proportion of students who answer this question quickly will pass the class? Assume the probability of passing the class is 0.9. Assume the probability of answering this question quickly is 0.6 if you'll pass the class, while the probability drops to 0.3 if you'll not pass the class."
   ]
  },
  {
   "cell_type": "code",
   "execution_count": null,
   "id": "4b26220a",
   "metadata": {},
   "outputs": [],
   "source": [
    "Given information:\n",
    "    Pr(pass) = 0.9\n",
    "    Pr(quick|pass) = 0.6\n",
    "    Pr(quick|fail) = 0.3\n",
    "    \n",
    "Pr(pass|quick) = Pr(pass)Pr(quick|pass) / Pr(quick)\n",
    "    = Pr(pass)Pr(quick|pass) / (Pr(pass)Pr(quick|pass) + Pr(fail)Pr(quick|fail))\n",
    "    = 0.94737"
   ]
  },
  {
   "cell_type": "markdown",
   "id": "ca76794a",
   "metadata": {},
   "source": [
    "$\\textbf{Question 2}$"
   ]
  },
  {
   "cell_type": "markdown",
   "id": "0d35c74a",
   "metadata": {},
   "source": []
  },
  {
   "cell_type": "markdown",
   "id": "b9d018c9",
   "metadata": {},
   "source": [
    "Likelihood is a multinomial\n",
    "$$ p(x|\\theta, n) = \\frac{n!}{x_1!x_2!...x_k!} \\prod_{i=1}^{k} \\theta_{i}^{x_i} = c \\cdot \\theta_{1}^{x_1}\\theta_{2}^{x_2}...\\theta_{k}^{x_k} $$"
   ]
  },
  {
   "cell_type": "markdown",
   "id": "900a56f1",
   "metadata": {},
   "source": [
    "Prior is a Dirichlet distribution\n",
    "$$p(\\theta|\\alpha) = \\frac{1}{B(\\alpha)}$$ where $B(\\alpha) = \\frac{\\prod_{i=1}^{k} \\Gamma(\\alpha_i)}{\\Gamma(\\Sigma_{i=1}^{k} \\alpha_i)}$\n",
    "$$ = c'\\cdot\\theta_{1}^{\\alpha_1 -1}\\theta_{2}^{\\alpha_2 -1}...\\theta_{k}^{\\alpha_k-1}$$"
   ]
  },
  {
   "cell_type": "markdown",
   "id": "36c8d7df",
   "metadata": {},
   "source": [
    "Hence, the posterior is \n",
    "$$\\frac{p(x|\\theta)p(\\theta)}{p(x)} = \\frac{(c \\cdot \\theta_{1}^{x_1}\\theta_{2}^{x_2}...\\theta_{k}^{x_k})(c'\\cdot\\theta_{1}^{\\alpha_1 -1}\\theta_{2}^{\\alpha_2 -1}...\\theta_{k}^{\\alpha_k-1})}{c\"}$$\n",
    "$$ = \\frac{(cc' \\cdot \\theta_{1}^{x_1+\\alpha_1 -1}\\theta_{2}^{x_2+\\alpha_2 -1}...\\theta_{k}^{x_k+\\alpha_k -1}}{c\"}$$\n",
    "$$ = \\frac{cc'}{c\"} \\prod_{i=1}^{k} \\theta_{i}^{x_i+ \\alpha_i -1}$$\n"
   ]
  },
  {
   "cell_type": "markdown",
   "id": "28513225",
   "metadata": {
    "collapsed": true
   },
   "source": [
    "$\\Rightarrow p(\\theta |x) \\alpha \\prod_{i=1}^{k} \\theta_{i}^{x_i+ \\alpha_i -1}\n",
    " \\Rightarrow$ The posterior distritbution is a Dirichlet distribution with parameters $\\alpha_i' = x_i +\\alpha_i$ for $i=1,2,...,k$"
   ]
  },
  {
   "cell_type": "markdown",
   "id": "ac042204",
   "metadata": {},
   "source": [
    "$\\textbf{Question 3}$\n",
    "Create a sample from a three category multinomial distribution and visualize the multinomial distribution and the multinomial sample; then, visualize the simplex Dirichlet distribution of the prior and the posterior using a ternary plot."
   ]
  },
  {
   "cell_type": "code",
   "execution_count": 8,
   "id": "11082659",
   "metadata": {},
   "outputs": [
    {
     "name": "stdout",
     "output_type": "stream",
     "text": [
      "Collecting python-ternary\n",
      "  Downloading python_ternary-1.0.8-py3-none-any.whl.metadata (1.0 kB)\n",
      "Requirement already satisfied: matplotlib>=2 in /opt/conda/lib/python3.11/site-packages (from python-ternary) (3.8.2)\n",
      "Requirement already satisfied: contourpy>=1.0.1 in /opt/conda/lib/python3.11/site-packages (from matplotlib>=2->python-ternary) (1.2.0)\n",
      "Requirement already satisfied: cycler>=0.10 in /opt/conda/lib/python3.11/site-packages (from matplotlib>=2->python-ternary) (0.12.1)\n",
      "Requirement already satisfied: fonttools>=4.22.0 in /opt/conda/lib/python3.11/site-packages (from matplotlib>=2->python-ternary) (4.46.0)\n",
      "Requirement already satisfied: kiwisolver>=1.3.1 in /opt/conda/lib/python3.11/site-packages (from matplotlib>=2->python-ternary) (1.4.5)\n",
      "Requirement already satisfied: numpy<2,>=1.21 in /opt/conda/lib/python3.11/site-packages (from matplotlib>=2->python-ternary) (1.24.4)\n",
      "Requirement already satisfied: packaging>=20.0 in /opt/conda/lib/python3.11/site-packages (from matplotlib>=2->python-ternary) (23.2)\n",
      "Requirement already satisfied: pillow>=8 in /opt/conda/lib/python3.11/site-packages (from matplotlib>=2->python-ternary) (10.1.0)\n",
      "Requirement already satisfied: pyparsing>=2.3.1 in /opt/conda/lib/python3.11/site-packages (from matplotlib>=2->python-ternary) (3.1.1)\n",
      "Requirement already satisfied: python-dateutil>=2.7 in /opt/conda/lib/python3.11/site-packages (from matplotlib>=2->python-ternary) (2.8.2)\n",
      "Requirement already satisfied: six>=1.5 in /opt/conda/lib/python3.11/site-packages (from python-dateutil>=2.7->matplotlib>=2->python-ternary) (1.16.0)\n",
      "Downloading python_ternary-1.0.8-py3-none-any.whl (18 kB)\n",
      "Installing collected packages: python-ternary\n",
      "Successfully installed python-ternary-1.0.8\n",
      "Note: you may need to restart the kernel to use updated packages.\n"
     ]
    }
   ],
   "source": [
    "pip install python-ternary"
   ]
  },
  {
   "cell_type": "code",
   "execution_count": null,
   "id": "1277c833",
   "metadata": {},
   "outputs": [],
   "source": [
    "import numpy as np\n",
    "import matplotlib.pyplot as plt\n",
    "from scipy import stats\n",
    "import plotly.figure_factory as ff\n",
    "\n",
    "# Step 1: Generate Multinomial Distribution and Sample\n",
    "np.random.seed(2411)  # For reproducibility\n",
    "\n",
    "# Define the multinomial probabilities and number of trials\n",
    "probabilities = [0.4, 0.35, 0.25]  # Probabilities for the three categories\n",
    "n_trials = 100  # Number of trials\n",
    "\n",
    "# Generate a sample from the multinomial distribution\n",
    "sample = np.random.multinomial(n_trials, probabilities)\n",
    "\n",
    "# Step 2: Visualize the Multinomial Distribution and the Sample\n",
    "categories = [\"Category 1\", \"Category 2\", \"Category 3\"]\n",
    "\n",
    "# Plot the multinomial probabilities (True Distribution)\n",
    "plt.figure(figsize=(10, 5))\n",
    "plt.bar(categories, probabilities, alpha=0.7, color='orange')\n",
    "plt.title(\"Multinomial Distribution (True Probabilities)\")\n",
    "plt.ylabel(\"Probability\")\n",
    "plt.xlabel(\"Categories\")\n",
    "plt.show('pg')\n",
    "\n",
    "# Plot the sample proportions\n",
    "plt.figure(figsize=(10, 5))\n",
    "plt.bar(categories, sample / n_trials, alpha=0.7, color='green')\n",
    "plt.title(\"Sample Proportions from Multinomial Distribution\")\n",
    "plt.ylabel(\"Proportion\")\n",
    "plt.xlabel(\"Categories\")\n",
    "plt.show('png')\n",
    "\n",
    "# Step 3: Define and Visualize Dirichlet Prior and Posterior\n",
    "\n",
    "# Define Dirichlet parameters (prior) and calculate posterior\n",
    "alpha_prior = np.array([2, 2, 2])  # Prior alpha values\n",
    "dirichlet_prior = stats.dirichlet(alpha=alpha_prior)\n",
    "\n",
    "# Define a simplex grid for visualization\n",
    "p1 = np.linspace(0, 1, 100)\n",
    "p2 = 1 - p1.copy()\n",
    "p_ = np.linspace(0, 1, 100)\n",
    "p1 = (p1[np.newaxis, :] * p_[:, np.newaxis]).flatten()\n",
    "p2 = (p2[np.newaxis, :] * p_[:, np.newaxis]).flatten()\n",
    "p3 = 1 - p1 - p2\n",
    "p = np.c_[p1, p2, p3]\n",
    "\n",
    "dirichlet_prior_densities = dirichlet_prior.pdf(p.T)\n",
    "\n",
    "# Plot Dirichlet prior using ternary plot\n",
    "fig_prior = ff.create_ternary_contour(\n",
    "    p.T, dirichlet_prior_densities,\n",
    "    pole_labels=['p1', 'p2', 'p3'],\n",
    "    interp_mode='cartesian',\n",
    "    showscale=True\n",
    ")\n",
    "fig_prior.update_layout(title=\"Dirichlet Prior (Alpha = [1.1, 1.1, 1.1])\")\n",
    "fig_prior.show('png')\n",
    "\n",
    "# Step 4: Compute and Visualize the Posterior Dirichlet\n",
    "alpha_posterior = alpha_prior + sample  # Update prior with observed counts\n",
    "dirichlet_posterior = stats.dirichlet(alpha=alpha_posterior)\n",
    "dirichlet_posterior_densities = dirichlet_posterior.pdf(p.T)\n",
    "\n",
    "# Plot Dirichlet posterior using ternary plot\n",
    "fig_posterior = ff.create_ternary_contour(\n",
    "    p.T, dirichlet_posterior_densities,\n",
    "    pole_labels=['p1', 'p2', 'p3'],\n",
    "    interp_mode='cartesian',\n",
    "    showscale=True\n",
    ")\n",
    "fig_posterior.update_layout(title=\"Dirichlet Posterior (Updated with Data)\")\n",
    "fig_posterior.show('png')\n",
    "\n"
   ]
  }
 ],
 "metadata": {
  "kernelspec": {
   "display_name": "Python 3 (ipykernel)",
   "language": "python",
   "name": "python3"
  },
  "language_info": {
   "codemirror_mode": {
    "name": "ipython",
    "version": 3
   },
   "file_extension": ".py",
   "mimetype": "text/x-python",
   "name": "python",
   "nbconvert_exporter": "python",
   "pygments_lexer": "ipython3",
   "version": "3.11.6"
  }
 },
 "nbformat": 4,
 "nbformat_minor": 5
}
